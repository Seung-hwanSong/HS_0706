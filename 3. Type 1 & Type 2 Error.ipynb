{
 "cells": [
  {
   "cell_type": "code",
   "execution_count": null,
   "id": "f19b9699-86c9-46b9-9bbc-3fffff0656db",
   "metadata": {},
   "outputs": [],
   "source": [
    "from IPython.display import display, HTML, Image"
   ]
  },
  {
   "cell_type": "code",
   "execution_count": null,
   "id": "865d4a41-edc1-41f5-b44f-9f40eaf416f0",
   "metadata": {},
   "outputs": [],
   "source": [
    "!git clone https://github.com/Seung-hwanSong/HS_0706.git #코랩 사용"
   ]
  },
  {
   "cell_type": "markdown",
   "id": "0319d51d-b486-4bb5-ab9b-8cc687caaacd",
   "metadata": {},
   "source": [
    "# Diagnostic Data Analytics 1\n",
    "\n",
    "# 3. Type1 & Type2 Error & Sampling 함수 실습\n",
    "# [Type1 & Type2 Error]"
   ]
  },
  {
   "cell_type": "markdown",
   "id": "b0fdfe22-6cfc-4d2f-9608-528db99ec164",
   "metadata": {
    "id": "XsMzmxdAKlTz",
    "jp-MarkdownHeadingCollapsed": true,
    "tags": []
   },
   "source": [
    "##### jupyter notebook 단축키\n",
    "\n",
    "- ctrl+enter: 셀 실행   \n",
    "- shift+enter: 셀 실행 및 다음 셀 이동   \n",
    "- alt+enter: 셀 실행, 다음 셀 이동, 새로운 셀 생성\n",
    "- a: 상단에 새로운 셀 만들기\n",
    "- b: 하단에 새로운 셀 만들기\n",
    "- dd: 셀 삭제(x: 셀 삭제)\n",
    "- 함수 ( ) 안에서 shift+tab: arguments description. shift+tab+tab은 길게 볼 수 있도록"
   ]
  },
  {
   "cell_type": "markdown",
   "id": "10abfb35-2134-4811-b347-d60d3dc88f40",
   "metadata": {},
   "source": [
    "## 1. 모듈 불러오기"
   ]
  },
  {
   "cell_type": "code",
   "execution_count": null,
   "id": "93fce062-2f24-4a21-ac64-6ffcc3a5d538",
   "metadata": {},
   "outputs": [],
   "source": [
    "\"\"\"데이터 전처리\"\"\"\n",
    "import numpy as np\n",
    "import pandas as pd\n",
    "\n",
    "\n",
    "\"\"\" 통계 및 계산 \"\"\"  \n",
    "import statistics\n",
    "import scipy.stats as stats\n",
    "import math\n",
    "\n",
    "\n",
    "\"\"\" 시각화 \"\"\"\n",
    "import matplotlib.pyplot as plt\n",
    "#%matplotlib inline"
   ]
  },
  {
   "cell_type": "markdown",
   "id": "350c3f81-257d-458e-a5e3-554e8f6c7e2f",
   "metadata": {
    "id": "3Of8GYzku62w"
   },
   "source": [
    "## 2. Type1 Error (α)"
   ]
  },
  {
   "cell_type": "markdown",
   "id": "6091a292-45d2-4897-9db3-f501bee46804",
   "metadata": {},
   "source": [
    "제 1종 오류 \n",
    "- 1종 오류는 귀무가설이 실제로 참이지만, 이에 불구하고 귀무가설을 기각하는 오류 (False Alarm)\n",
    "- In terms of control chart, it is called False Alarm.\n",
    "\n",
    "Type I error rates?\n",
    "- 1 sigma → 0.3174\n",
    "- 2 sigma → 0.0456\n",
    "- 3 sigma → 0.0027\n",
    "\n",
    "현업에서는 통상적으로 3Sigma 사용\n",
    "\n",
    "- Why not reduce the type I error to less than three sigma?? \n",
    "- Because it is in a trade-off relationship with type 2 errors. (Next Chapter)"
   ]
  },
  {
   "cell_type": "code",
   "execution_count": null,
   "id": "8f407c93-9278-4bd6-b3e2-7215042b919a",
   "metadata": {},
   "outputs": [],
   "source": [
    "Image('/content/HS_0706/image/intro3.png')"
   ]
  },
  {
   "cell_type": "markdown",
   "id": "e5d46267-186f-4c6d-b85e-57de0519f258",
   "metadata": {},
   "source": [
    "### 평균 0 표준편차가 1인 정규분포 생성"
   ]
  },
  {
   "cell_type": "code",
   "execution_count": null,
   "id": "65448fc5-737a-45ce-9a13-9d653506d358",
   "metadata": {},
   "outputs": [],
   "source": [
    "sigma = 1                           # 표준편차\n",
    "x = np.linspace(-6, 6, 100)         # 확률 변수 x 생성\n",
    "y1 = stats.norm(0, sigma).pdf(x)    # 정규분포 확률밀도함수 "
   ]
  },
  {
   "cell_type": "markdown",
   "id": "bae1ddc0-0b5d-4da7-b18a-0c8aeb88af1d",
   "metadata": {},
   "source": [
    "### Type1 Error Plotting 함수 정의"
   ]
  },
  {
   "cell_type": "code",
   "execution_count": null,
   "id": "6d420bb8-b9e5-40b6-a464-400aae5a5bf9",
   "metadata": {},
   "outputs": [],
   "source": [
    "def Type1_Error_Plotting(x, y ,n, sigma):\n",
    "    Control_limit = n*sigma                                                       # 평균 0 표준편차를 알고 있다고 가정할 때 관리한계선 생성\n",
    "    plt.figure(figsize=(10, 6))         \n",
    "    plt.plot(x, y, color='blue')        \n",
    "    plt.axhline(0, color='black')                                                 # x축을 수평선으로 표시\n",
    " \n",
    "    plt.axvline(Control_limit, linestyle='--', color='red', alpha=.7)             # Upper Control Limit \n",
    "    plt.axvline(-Control_limit, linestyle='--', color='red', alpha=.7)            # Lower Control Limit\n",
    "    plt.text(Control_limit+0.5, .23, 'Upper control limit', fontsize=15, horizontalalignment='center',rotation = 'vertical')\n",
    "    plt.text(-Control_limit-0.5, .23, 'Lower control limit', fontsize=15, horizontalalignment='center',rotation = 'vertical')\n",
    "    \n",
    "    plt.fill_between(x, 0, y1, where= (x >= Control_limit), facecolor='skyblue', alpha=.8,)     # 관리상한선 바깥 색칠\n",
    "    plt.fill_between(x, 0, y1, where= (x <= -Control_limit), facecolor='skyblue', alpha=.8,)    # 관리하한선 바깥 색칠\n",
    "\n",
    "    if n == 1 :                                                                                             # 1 시그마 \n",
    "        plt.text(Control_limit+1, .02, 'Type1 error = 0.1587', fontsize=13, horizontalalignment='center')\n",
    "        plt.text(-Control_limit-1, .02, 'Type1 error = 0.1587', fontsize=13, horizontalalignment='center')\n",
    "    elif n == 2:                                                                                            # 2 시그마\n",
    "        plt.text(Control_limit+0.7, .02, 'Type1 error = 0.0228', fontsize=13, horizontalalignment='center')\n",
    "        plt.text(-Control_limit-0.7, .02, 'Type1 error = 0.0228', fontsize=13, horizontalalignment='center')  \n",
    "    elif n == 3:                                                                                            # 3 시그마\n",
    "        plt.text(Control_limit+0.5, .02, 'Type1 error = 0.00135', fontsize=13, horizontalalignment='center')\n",
    "        plt.text(-Control_limit-0.5, .02, 'Type1 error = 0.00135', fontsize=13, horizontalalignment='center')\n",
    "  \n",
    "    plt.text(0, .2, r'$1-\\alpha$', fontsize=15, horizontalalignment='center')\n",
    "  \n",
    "    plt.xlabel(\"x\")                                    # x축 레이블 지정\n",
    "    plt.ylabel(\"y\")                                    # y축 레이블 지정\n",
    "    plt.grid()                                         # 플롯에 격자 보이기\n",
    "    plt.title(f'Type1 Error When {n}sigma', fontsize=15)                           # 타이틀 표시\n",
    "    plt.show()                                         # 플롯 보이기 "
   ]
  },
  {
   "cell_type": "code",
   "execution_count": null,
   "id": "749be901-a899-40ad-8030-7d78e5b939c3",
   "metadata": {},
   "outputs": [],
   "source": [
    "# 1~3 Sigma일 때 Type1 Error Plotting\n",
    "\n",
    "for n in range(3):\n",
    "    Type1_Error_Plotting(x,y1,n+1,sigma)"
   ]
  },
  {
   "cell_type": "markdown",
   "id": "b816a8d4-4d59-46a7-8864-cf6c6f8a27dd",
   "metadata": {},
   "source": [
    "## 3. Type2 Error (β)\n",
    "제 2종 오류\n",
    "- 귀무가설이 실제로 거짓이지만, 이에 불구하고 귀무가설을 기각하지 못하는 오류\n",
    "- 실제 양성(positive)인 것을 음성(negative)으로 판정\n",
    "- 제 1종 오류와 Trade-off 관계"
   ]
  },
  {
   "cell_type": "code",
   "execution_count": null,
   "id": "2f77f880-7a88-40c5-b2e5-b206acb0ad8c",
   "metadata": {},
   "outputs": [],
   "source": [
    "Image('/content/HS_0706/image/intro4.png')"
   ]
  },
  {
   "cell_type": "code",
   "execution_count": null,
   "id": "e492d905-8a22-4b33-bc69-b7a2efd4dbe2",
   "metadata": {},
   "outputs": [],
   "source": [
    "# 데이터 생성\n",
    "\n",
    "x = np.linspace(-4, 6, 100)     # 확률 변수 x 생성\n",
    "y1 = stats.norm(0, 1).pdf(x)    # 평균 0 표준편차가 1인 정규분포   = H0 (귀무가설)\n",
    "y2 = stats.norm(2.5, 1).pdf(x)  # 평균 2.5 표준편차가 1인 정규분포 = H1 (대립가설) "
   ]
  },
  {
   "cell_type": "markdown",
   "id": "fa096c96-b4be-48c0-822c-b4200ff0edf0",
   "metadata": {},
   "source": [
    "### Type1,Type2 Error Plotting함수 정의"
   ]
  },
  {
   "cell_type": "code",
   "execution_count": null,
   "id": "0ef40776-9ccc-4a88-a9fa-a8083a8c9e9c",
   "metadata": {},
   "outputs": [],
   "source": [
    "def Type1Type2_Error_Plotting(x, H0_y, H1_y, alpha):\n",
    "  \n",
    "    criticalValue = stats.norm(0, 1).ppf(1 - alpha)                                # PPF는 누적분포의 역함수. 즉, 해당함수는 넓이가 1-a에 해당하는 X값 반환 (유의수준 설정) \n",
    "    # plot 작성\n",
    "    plt.figure(figsize=(10, 6))            # 플롯 사이즈 지정\n",
    "\n",
    "    plt.plot(x, H0_y, color='blue')        # H0 선을 파랑색으로 지정하여 plot 작성\n",
    "    plt.plot(x, H1_y, color='red')         # H1 선을 빨강색으로 지정하여 plot 작성\n",
    "\n",
    "    plt.axhline(0, color='black')          # x축을 수평선으로 표시\n",
    "\n",
    "    plt.axvline(criticalValue, linestyle='--', color='black', linewidth=4, alpha=.7)             # H0 유의수준에 검은 점선으로 수직선 표시\n",
    "\n",
    "    # 유의수준을 기준으로 하늘색과 핑크색으로 면적 칠하기\n",
    "    plt.fill_between(x, 0, H0_y, where=(x >= criticalValue), facecolor='skyblue', alpha=.8,)\n",
    "    plt.fill_between(x, 0, H1_y, where=(x <= criticalValue), facecolor='pink', alpha=.8,)\n",
    "\n",
    "    # 면적에 대하여 텍스트 표시\n",
    "    plt.text(0, .35, r'$H_0$', fontsize=12, horizontalalignment='center')\n",
    "    plt.text(2.5, .35, r'$H_1$', fontsize=12, horizontalalignment='center')\n",
    "    plt.text(criticalValue+0.3, .02, r'$\\alpha$', fontsize=12, horizontalalignment='center')\n",
    "    plt.text(criticalValue-0.3, .02, r'$\\beta$', fontsize=12, horizontalalignment='center')\n",
    "    plt.text(0, .2, r'$1-\\alpha$', fontsize=12, horizontalalignment='center')\n",
    "    plt.text(2.5, .2, r'$1-\\beta$', fontsize=12, horizontalalignment='center')\n",
    "\n",
    "    plt.xlabel(\"x\", fontsize=12)                                    # x축 레이블 지정\n",
    "    plt.ylabel(\"y\", fontsize=12)                                    # y축 레이블 지정\n",
    "    plt.grid()                                                      # 플롯에 격자 보이기\n",
    "    plt.title(r'$\\alpha$ Error and $\\beta$ Error When $\\alpha$ =' + str(alpha), fontsize=15)     # 타이틀 표시\n",
    "    plt.show()                                                      # 플롯 보이기"
   ]
  },
  {
   "cell_type": "code",
   "execution_count": null,
   "id": "272d9701-fd06-4396-bce5-eae89591e9a6",
   "metadata": {},
   "outputs": [],
   "source": [
    "# 제 1종 오류 0.025일 때 시각화 결과\n",
    "\n",
    "Type1Type2_Error_Plotting(x,y1,y2,0.025)"
   ]
  },
  {
   "cell_type": "code",
   "execution_count": null,
   "id": "f05308d6-4041-4a77-a1e8-714ed13fe10f",
   "metadata": {},
   "outputs": [],
   "source": [
    "# 제 1종 오류 0.1일 때 시각화 결과\n",
    "\n",
    "Type1Type2_Error_Plotting(x,y1,y2,0.1)"
   ]
  },
  {
   "cell_type": "code",
   "execution_count": null,
   "id": "864f4d2e-5a14-42c0-9b2e-093b54221466",
   "metadata": {},
   "outputs": [],
   "source": [
    "# 제 1종 오류 0.25일 때 시각화 결과\n",
    "\n",
    "Type1Type2_Error_Plotting(x,y1,y2,0.25)"
   ]
  },
  {
   "cell_type": "markdown",
   "id": "c2665fcd-d3fc-4880-b961-67ee4fd2a7d8",
   "metadata": {},
   "source": [
    "# [Sampling 함수]"
   ]
  },
  {
   "cell_type": "markdown",
   "id": "97196c64-9fb1-4851-9195-199bf5d05c9d",
   "metadata": {},
   "source": [
    "## 1. Sampling 예제"
   ]
  },
  {
   "cell_type": "code",
   "execution_count": null,
   "id": "1b21736e-33ed-4d53-aa7b-c74e5442ce45",
   "metadata": {},
   "outputs": [],
   "source": [
    "import pandas as pd\n",
    "\n",
    "col  = ['col1','col2','col3']\n",
    "row  = ['row1','row2','row3','row4','row5']\n",
    "data = [[1,2,3],[4,5,6],[7,8,9],[10,11,12],[13,14,15]]\n",
    "df = pd.DataFrame(data,row,col)\n",
    "print(df)"
   ]
  },
  {
   "cell_type": "markdown",
   "id": "674f1e03-4b3e-4439-936b-298424fcf8de",
   "metadata": {},
   "source": [
    "### DataFrame.sample(n=None, frac=None, replace=False, weights=None, random_state=None, axis=None, ignore_index=False)"
   ]
  },
  {
   "cell_type": "markdown",
   "id": "e4eaef3d-9fcd-4590-ba8e-1676f7576f0b",
   "metadata": {},
   "source": [
    "`n`을 설정함으로써 원하는 갯수의 추출이 가능합니다. n을 2로 설정함으로써 2개의 행이 추출된것을 볼 수 있음"
   ]
  },
  {
   "cell_type": "code",
   "execution_count": null,
   "id": "fd9929d3-a2cc-4dba-9b2f-bdb803eb74d4",
   "metadata": {},
   "outputs": [],
   "source": [
    "print(df.sample(2))"
   ]
  },
  {
   "cell_type": "markdown",
   "id": "a5219796-fe29-47f2-8b0f-6b73c1f96fdc",
   "metadata": {},
   "source": [
    "`frac`을 통해 전체에대한 추출 비율을 정할 수 있습니다. frac을 0.4로 설정하므로써, 전체에서 40%인 2개를 추출"
   ]
  },
  {
   "cell_type": "code",
   "execution_count": null,
   "id": "8ca09d65-715d-43c6-a656-3130ac5bfea8",
   "metadata": {},
   "outputs": [],
   "source": [
    "print(df.sample(frac=0.4))"
   ]
  },
  {
   "cell_type": "markdown",
   "id": "f9bf40e7-173f-44af-9750-1e4ff1a08f23",
   "metadata": {},
   "source": [
    "`replace=True`로 설정하여 중복 추출을 허용 가능"
   ]
  },
  {
   "cell_type": "code",
   "execution_count": null,
   "id": "d920a322-fcd9-4809-b61f-8096bd4e2364",
   "metadata": {},
   "outputs": [],
   "source": [
    "print(df.sample(10, replace=True))"
   ]
  },
  {
   "cell_type": "markdown",
   "id": "aa0671e8-8cbd-4dbb-adfc-07da8db7b27e",
   "metadata": {},
   "source": [
    "`random_state`에 원하는 값을 설정하므로써 출력 결과를 동일하게 다시 출력하는것이 가능합니다."
   ]
  },
  {
   "cell_type": "code",
   "execution_count": null,
   "id": "0756d1fa-7187-4cde-874f-d328ecb55d3d",
   "metadata": {},
   "outputs": [],
   "source": [
    "print(df.sample(5,random_state=2022))"
   ]
  },
  {
   "cell_type": "markdown",
   "id": "923a9e5d-f573-4eaa-a8ff-9e75def035cf",
   "metadata": {},
   "source": [
    "`ignore_index`를 True로 하면 index는 사라지고 순서대로 번호가 부여됨"
   ]
  },
  {
   "cell_type": "code",
   "execution_count": null,
   "id": "810a740c-feee-4ee0-bad1-7b59f69fc079",
   "metadata": {},
   "outputs": [],
   "source": [
    "print(df.sample(3,ignore_index=True))"
   ]
  },
  {
   "cell_type": "markdown",
   "id": "e7a71cc7-4c18-4639-a6b3-240c5fec53f1",
   "metadata": {
    "jp-MarkdownHeadingCollapsed": true,
    "tags": []
   },
   "source": [
    "# EOD"
   ]
  }
 ],
 "metadata": {
  "kernelspec": {
   "display_name": "ttest",
   "language": "python",
   "name": "ttest"
  },
  "language_info": {
   "codemirror_mode": {
    "name": "ipython",
    "version": 3
   },
   "file_extension": ".py",
   "mimetype": "text/x-python",
   "name": "python",
   "nbconvert_exporter": "python",
   "pygments_lexer": "ipython3",
   "version": "3.7.11"
  }
 },
 "nbformat": 4,
 "nbformat_minor": 5
}
