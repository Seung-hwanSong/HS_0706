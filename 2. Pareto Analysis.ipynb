{
 "cells": [
  {
   "cell_type": "code",
   "execution_count": null,
   "id": "e0ea9706-5572-4eab-99cf-39705bcc3aa3",
   "metadata": {},
   "outputs": [],
   "source": [
    "!pip install IPython\n",
    "from IPython.display import display, HTML, Image"
   ]
  },
  {
   "cell_type": "code",
   "execution_count": null,
   "id": "3cc7b18d-20d5-4b01-8f6a-3f201d4df349",
   "metadata": {},
   "outputs": [],
   "source": [
    "!git clone https://github.com/Seung-hwanSong/HS_0706.git #코랩 사용"
   ]
  },
  {
   "cell_type": "markdown",
   "id": "68049e81-f9c8-4424-accd-ba30c4f2a570",
   "metadata": {
    "id": "pCnmxP8LKaTc"
   },
   "source": [
    "# Diagnostic Data Analytics 1\n",
    "\n",
    "# 2. Pareto Analysis (파레토 분석) 실습\n",
    "# Pareto Analysis"
   ]
  },
  {
   "cell_type": "markdown",
   "id": "0504f320-9ae2-4e28-8eab-55a61b056578",
   "metadata": {
    "id": "XsMzmxdAKlTz"
   },
   "source": [
    "##### jupyter notebook 단축키\n",
    "\n",
    "- ctrl+enter: 셀 실행   \n",
    "- shift+enter: 셀 실행 및 다음 셀 이동   \n",
    "- alt+enter: 셀 실행, 다음 셀 이동, 새로운 셀 생성\n",
    "- a: 상단에 새로운 셀 만들기\n",
    "- b: 하단에 새로운 셀 만들기\n",
    "- dd: 셀 삭제(x: 셀 삭제)\n",
    "- 함수 ( ) 안에서 shift+tab: arguments description. shift+tab+tab은 길게 볼 수 있도록"
   ]
  },
  {
   "cell_type": "markdown",
   "id": "5337fba1-6bdf-4f95-af2c-64798b157aa2",
   "metadata": {
    "id": "BmC6H34qner1"
   },
   "source": [
    "- 파레토 분석  <br>\n",
    "    - 문제의 원인을 가장 중요한 것에서 가장 덜 중요한 것으로 분류하는 그래픽 도구\n",
    "    - '대부분의 결과는 가능한 원인의 20%에서 비롯된 파레토 원리를 기반으로 한다'를 전제로 하고있음\n",
    "    - 파레토 분석 (Pareto Analysis)은 7개의 기본 품질 도구 중 하나로 중요한 결과를 도출하는 제한된 수의 작업 중 선택하는데 사용하는 의사 결정의 통계 기법\n",
    "    <br><br>\n"
   ]
  },
  {
   "cell_type": "code",
   "execution_count": null,
   "id": "410f9a35-6d67-477a-82bc-0fff6fbe1aca",
   "metadata": {},
   "outputs": [],
   "source": [
    "Image('/content/HS_0706/image/intro1.png')"
   ]
  },
  {
   "cell_type": "markdown",
   "id": "dc5e78ae-e5fb-43de-ad54-83411c91b97f",
   "metadata": {
    "id": "OW9LwVn1KdCN"
   },
   "source": [
    "## 1. 분석 데이터 \n",
    "### (1) [sae(pre).csv --> V23, V24, V50]\n",
    "### (2) [scm(pre).csv -->  V12, V55, V57]"
   ]
  },
  {
   "cell_type": "markdown",
   "id": "6ac7feb1-b649-4757-bbd6-0a6a7e381bf6",
   "metadata": {
    "id": "ZXlfBH4bKfPw"
   },
   "source": [
    "- 데이터 description <br>\n",
    "    - sae, scm 데이터는 모터의 전류를 예측하여 실제 전류와 비교 후 값의 차이가 크면 모터 이상으로 판단하는 선재 라인 압연기 모터 이상 감지를 위해 수집된 센서 데이터\n",
    "    - 해당 데이터셋에서는 RSM Mootor Current (실시간 데이터의 최대값을 활용하여 이상 탐지를 수행함 <br><br>\n",
    "- 변수 설명\n",
    "    - sae(pre).csv\n",
    "        - 독립 변수 (3개): V23, V24, V50\n",
    "    - scm(pre).csv\n",
    "        - 독립 변수 (3개): V12, V55, V57<br><br>\n",
    "\n"
   ]
  },
  {
   "cell_type": "code",
   "execution_count": null,
   "id": "91cbaae4-c102-4979-9dab-0393afbe4728",
   "metadata": {
    "id": "P9exMXyaKhY5"
   },
   "outputs": [],
   "source": [
    "Image('/content/HS_0706/image/intro2.png')"
   ]
  },
  {
   "cell_type": "markdown",
   "id": "2e14f69a-52c7-49f6-b7d0-0daebf2efb28",
   "metadata": {},
   "source": [
    "## 2. 모듈 불러오기"
   ]
  },
  {
   "cell_type": "code",
   "execution_count": null,
   "id": "6bc72864-09d4-4e03-8be4-45f823392047",
   "metadata": {
    "id": "N7JSaFwEK1mD"
   },
   "outputs": [],
   "source": [
    "''' 기본 모듈 및 시각화 모듈 '''\n",
    "import numpy as np\n",
    "import pandas as pd\n",
    "import matplotlib.pyplot as plt"
   ]
  },
  {
   "cell_type": "markdown",
   "id": "54f1f8b1-2b91-496b-8d3d-2a8690f804f7",
   "metadata": {
    "id": "4zu4NUeUK3a5"
   },
   "source": [
    "## 3. sae(pre).csv 데이터"
   ]
  },
  {
   "cell_type": "markdown",
   "id": "01a5eab2-02e5-4dc1-b54f-b064c826e488",
   "metadata": {},
   "source": [
    "### 데이터 불러오기"
   ]
  },
  {
   "cell_type": "code",
   "execution_count": null,
   "id": "336317e3-058d-4865-bb7e-df3a74397d30",
   "metadata": {},
   "outputs": [],
   "source": [
    "data = pd.read_csv('/content/HS_0706/data/[1] sae(pre).csv')\n",
    "# data = pd.read_csv('./data/[1] sae(pre).csv') #로컬\n",
    "\n",
    "data = data[['V23', 'V24', 'V50']]"
   ]
  },
  {
   "cell_type": "markdown",
   "id": "6fb2cc06-a594-4a19-b4ca-5e2a2ff5f018",
   "metadata": {},
   "source": [
    "### 데이터 확인"
   ]
  },
  {
   "cell_type": "code",
   "execution_count": null,
   "id": "9886e50b-55e9-4404-846e-9e08311aafba",
   "metadata": {},
   "outputs": [],
   "source": [
    "print('Data shape: {}'.format(data.shape))\n",
    "data.head()"
   ]
  },
  {
   "cell_type": "code",
   "execution_count": null,
   "id": "f4d6c333-6366-4283-91e5-08c9b0e7188a",
   "metadata": {
    "id": "ANoknDedK5Ht"
   },
   "outputs": [],
   "source": [
    "V23 = data['V23']\n",
    "V24 = data['V24']\n",
    "V50 = data['V50']"
   ]
  },
  {
   "cell_type": "markdown",
   "id": "d5ea3404-dda7-4a27-8534-acf088c26ab1",
   "metadata": {},
   "source": [
    "### 데이터 각 변수에 대한 Plotting"
   ]
  },
  {
   "cell_type": "code",
   "execution_count": null,
   "id": "3438a110-09c9-4ea1-b9c5-cbde8b17234a",
   "metadata": {},
   "outputs": [],
   "source": [
    "plt.figure(figsize=(15,12))\n",
    "\n",
    "plt.subplot(311)       \n",
    "plt.plot(data['V23'], color='r', label='V23')\n",
    "plt.title(\"SAE V23 Curve\", fontsize=18)\n",
    "plt.legend(fontsize=15)\n",
    "\n",
    "plt.subplot(312)       \n",
    "plt.plot(data['V24'], color='b', label='V24')\n",
    "plt.title(\"SAE V24 Curve\", fontsize=18)\n",
    "plt.legend(fontsize=15)\n",
    "\n",
    "plt.subplot(313)       \n",
    "plt.plot(data['V50'], color='k', label='V50')\n",
    "plt.title(\"SAE V50 Curve\", fontsize=18)\n",
    "plt.legend(fontsize=15)\n",
    "\n",
    "plt.show()"
   ]
  },
  {
   "cell_type": "markdown",
   "id": "7e1ac09d-2538-417d-bb30-4d55a78c1e70",
   "metadata": {
    "id": "KyUoHkN8f0fV"
   },
   "source": [
    "### 파레토 차트를 그리기 위한 전처리"
   ]
  },
  {
   "cell_type": "code",
   "execution_count": null,
   "id": "55d5cfaa-0a63-4404-80f4-089eed58326d",
   "metadata": {},
   "outputs": [],
   "source": [
    "# 파레토 차트를 그리기 위해 각 변수에 대한 축을 설정하는 작업을 수행\n",
    "# 각 변수에 대해 동일한 값을 갖는 변수의 개수를 저장\n",
    "\n",
    "V23_count = data['V23'].value_counts()\n",
    "V24_count = data['V24'].value_counts()\n",
    "V50_count = data['V50'].value_counts()\n",
    "\n",
    "print(V23_count.head())"
   ]
  },
  {
   "cell_type": "code",
   "execution_count": null,
   "id": "e5b5b7d5-a246-4ca0-9f1e-e5ca96c2814a",
   "metadata": {
    "colab": {
     "base_uri": "https://localhost:8080/"
    },
    "id": "yRD4Fnwc0bKI",
    "outputId": "561849a3-c93b-4c15-8c11-819665e01dc8"
   },
   "outputs": [],
   "source": [
    "# 파레토 차트의 X축을 그리기 위해, 값을 나열하고, 문자열로 변환 \n",
    "\n",
    "X23 = list(map(str, V23_count.index))\n",
    "X24 = list(map(str, V24_count.index))\n",
    "X50 = list(map(str, V50_count.index))\n",
    "\n",
    "print(X23)"
   ]
  },
  {
   "cell_type": "code",
   "execution_count": null,
   "id": "73ad9e86-547e-4bf1-a6ea-a94909718cd4",
   "metadata": {
    "colab": {
     "base_uri": "https://localhost:8080/"
    },
    "id": "gf07CbCH0u6X",
    "outputId": "8490325c-0a0f-4f14-a22d-16ab050c17bb"
   },
   "outputs": [],
   "source": [
    "# 파레토 차트의 y축을 그리기 위해, Count 값을 저장\n",
    "\n",
    "y23 = V23_count.values\n",
    "y24 = V24_count.values\n",
    "y50 = V50_count.values\n",
    "\n",
    "print(y23)"
   ]
  },
  {
   "cell_type": "code",
   "execution_count": null,
   "id": "6c4bae4e-0926-42e0-a1a0-cb968c4470a3",
   "metadata": {
    "colab": {
     "base_uri": "https://localhost:8080/"
    },
    "id": "0Qxo5e7H0-AU",
    "outputId": "21025d51-5a6a-435c-f203-6767a061bd28"
   },
   "outputs": [],
   "source": [
    "# 누적 데이터를 확인하기 위해 y 값 각각에 대한 비율을 구하고, cumulative sums 값을 비율로 저장해줌\n",
    "\n",
    "Ratio_V23 = y23/(y23.sum())\n",
    "Ratio_V23_Cum = Ratio_V23.cumsum()\n",
    "\n",
    "Ratio_V24 = y24/y24.sum()\n",
    "Ratio_V24_Cum = Ratio_V24.cumsum()\n",
    "\n",
    "Ratio_V50 = y50/y50.sum()\n",
    "Ratio_V50_Cum = Ratio_V50.cumsum()\n",
    "\n",
    "print(Ratio_V23_Cum)"
   ]
  },
  {
   "cell_type": "markdown",
   "id": "3eca2a2f-8bf4-4d4d-8137-a4c8588d7744",
   "metadata": {
    "id": "6ooHwCKAf59x"
   },
   "source": [
    "### 파레토 차트 그리기"
   ]
  },
  {
   "cell_type": "code",
   "execution_count": null,
   "id": "30d02dbb-1238-48bc-817b-43964db8c7bc",
   "metadata": {},
   "outputs": [],
   "source": [
    "## v23 파레토 차트 그리기\n",
    "fig, ax = plt.subplots(figsize = (20, 8)) # # 그래프 사이즈 지정\n",
    "ax.bar(X23, y23) # bar 차트 그리기\n",
    "ax.set_xlabel('Data components', fontsize = 12)\n",
    "ax.set_ylabel('Number of counts', fontsize = 12)\n",
    "\n",
    "ax2 = ax.twinx() # 새로운 axis 생성\n",
    "ax2.plot(X23, Ratio_V23_Cum, '-g^', alpha = 0.5) # -: 대쉬 / g: green, ^: 세모  \n",
    "# 기존 ax2 plot의 y 축의 포멧을 변경\n",
    "range = ax2.get_yticks() \n",
    "ax2.set_yticklabels(['{0:.1%}'.format(x) for x in range])\n",
    "\n",
    "# ax2에 annotation \n",
    "ratio_sum_percentages = ['{0:.0%}'.format(x) for x in Ratio_V23_Cum]\n",
    "for i, txt in enumerate(ratio_sum_percentages):\n",
    "    ax2.annotate(txt, (X23[i], Ratio_V23_Cum[i]), fontsize = 12)\n",
    "\n",
    "plt.title('Pareto Chart - Number of values of V23', fontsize = 18)\n",
    "plt.show()"
   ]
  },
  {
   "cell_type": "code",
   "execution_count": null,
   "id": "4be5749d-9245-41e4-a3da-c5237fe5d45e",
   "metadata": {},
   "outputs": [],
   "source": [
    "## v23 파레토 차트 그리기 (20 point)\n",
    "fig, ax = plt.subplots(figsize = (20, 8)) # # 그래프 사이즈 지정\n",
    "ax.bar(X23[:20], y23[:20]) # bar 차트 그리기\n",
    "ax.set_xlabel('Data components', fontsize = 12)\n",
    "ax.set_ylabel('Number of counts', fontsize = 12)\n",
    "\n",
    "ax2 = ax.twinx() # 새로운 axis 생성\n",
    "ax2.plot(X23[:20], Ratio_V23_Cum[:20], '-g^', alpha = 0.5) # -: 대쉬 / g: green, ^: 세모  \n",
    "# 기존 ax2 plot의 y 축의 포멧을 변경\n",
    "range = ax2.get_yticks() \n",
    "ax2.set_yticklabels(['{0:.1%}'.format(x) for x in range])\n",
    "\n",
    "# ax2에 annotation \n",
    "ratio_sum_percentages = ['{0:.0%}'.format(x) for x in Ratio_V23_Cum[:20]]\n",
    "for i, txt in enumerate(ratio_sum_percentages):\n",
    "    ax2.annotate(txt, (X23[i], Ratio_V23_Cum[i]), fontsize = 12)\n",
    "\n",
    "plt.title('Pareto Chart - Number of values of V23', fontsize = 18)\n",
    "plt.show()"
   ]
  },
  {
   "cell_type": "code",
   "execution_count": null,
   "id": "41361f80-6a6b-47d9-b963-f69cfc4774b3",
   "metadata": {},
   "outputs": [],
   "source": [
    "## v50 파레토 차트 그리기\n",
    "fig, ax = plt.subplots(figsize = (20, 8)) # # 그래프 사이즈 지정\n",
    "ax.bar(X50, y50) # bar 차트 그리기\n",
    "ax.set_xlabel('Data components', fontsize = 12)\n",
    "ax.set_ylabel('Number of counts', fontsize = 12)\n",
    "\n",
    "ax2 = ax.twinx() # 새로운 axis 생성\n",
    "ax2.plot(X50, Ratio_V50_Cum, '-g^', alpha = 0.5) # -: 대쉬 / g: green, ^: 세모  \n",
    "# 기존 ax2 plot의 y 축의 포멧을 변경\n",
    "range = ax2.get_yticks() \n",
    "ax2.set_yticklabels(['{0:.1%}'.format(x) for x in range])\n",
    "\n",
    "# ax2에 annotation \n",
    "ratio_sum_percentages = ['{0:.0%}'.format(x) for x in Ratio_V50_Cum]\n",
    "for i, txt in enumerate(ratio_sum_percentages):\n",
    "    ax2.annotate(txt, (X50[i], Ratio_V50_Cum[i]), fontsize = 12)\n",
    "\n",
    "plt.title('Pareto Chart - Number of values of V50', fontsize = 18)\n",
    "plt.show()"
   ]
  },
  {
   "cell_type": "markdown",
   "id": "4b5ceae4-75ac-4717-a33b-2c9ddc8ace62",
   "metadata": {},
   "source": [
    "# EOD"
   ]
  }
 ],
 "metadata": {
  "kernelspec": {
   "display_name": "ttest",
   "language": "python",
   "name": "ttest"
  },
  "language_info": {
   "codemirror_mode": {
    "name": "ipython",
    "version": 3
   },
   "file_extension": ".py",
   "mimetype": "text/x-python",
   "name": "python",
   "nbconvert_exporter": "python",
   "pygments_lexer": "ipython3",
   "version": "3.7.11"
  }
 },
 "nbformat": 4,
 "nbformat_minor": 5
}
