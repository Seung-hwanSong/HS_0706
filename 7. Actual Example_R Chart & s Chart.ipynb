{
 "cells": [
  {
   "cell_type": "code",
   "execution_count": null,
   "metadata": {},
   "outputs": [],
   "source": [
    "from IPython.display import display, HTML, Image"
   ]
  },
  {
   "cell_type": "code",
   "execution_count": null,
   "metadata": {},
   "outputs": [],
   "source": [
    "!git clone https://github.com/Seung-hwanSong/HS_0706.git #코랩 사용"
   ]
  },
  {
   "cell_type": "markdown",
   "metadata": {
    "tags": []
   },
   "source": [
    "# Diagnostic Data Analytics 1\n",
    "\n",
    "# . Toy Example R Chart & s Chart\n",
    "## - R Chart\n",
    "## - s Chart"
   ]
  },
  {
   "cell_type": "markdown",
   "metadata": {
    "id": "XsMzmxdAKlTz",
    "tags": []
   },
   "source": [
    "##### jupyter notebook 단축키\n",
    "\n",
    "- ctrl+enter: 셀 실행   \n",
    "- shift+enter: 셀 실행 및 다음 셀 이동   \n",
    "- alt+enter: 셀 실행, 다음 셀 이동, 새로운 셀 생성\n",
    "- a: 상단에 새로운 셀 만들기\n",
    "- b: 하단에 새로운 셀 만들기\n",
    "- dd: 셀 삭제(x: 셀 삭제)\n",
    "- 함수 ( ) 안에서 shift+tab: arguments description. shift+tab+tab은 길게 볼 수 있도록"
   ]
  },
  {
   "cell_type": "markdown",
   "metadata": {},
   "source": [
    "## 1. 모듈 불러오기"
   ]
  },
  {
   "cell_type": "code",
   "execution_count": null,
   "metadata": {},
   "outputs": [],
   "source": [
    "\"\"\"데이터 전처리\"\"\"\n",
    "import pandas as pd\n",
    "import numpy as np\n",
    "\n",
    "\"\"\" 통계 및 계산 \"\"\"  \n",
    "import statistics\n",
    "\n",
    "\"\"\" 시각화 \"\"\"\n",
    "import matplotlib.pyplot as plt\n",
    "#%matplotlib inline"
   ]
  },
  {
   "cell_type": "code",
   "execution_count": null,
   "metadata": {},
   "outputs": [],
   "source": [
    "Image('/content/HS_0706/image/intro6.png')"
   ]
  },
  {
   "cell_type": "code",
   "execution_count": null,
   "metadata": {},
   "outputs": [],
   "source": [
    "# #### [Control chart table 사용]\n",
    "\n",
    "# n         2      3      4      5      6      7      8      9      10\n",
    "A2 = [0, 0, 1.880, 1.023, 0.729, 0.577, 0.483, 0.419, 0.373, 0.337, 0.308]\n",
    "d2 = [0, 0, 1.128, 1.693, 2.059, 2.326, 2.534, 2.704, 2.847, 2.970, 3.078]\n",
    "d1 = [0, 0, 0.853, 0.888, 0.880, 0.864, 0.848, 0.833, 0.820, 0.808, 0.797]\n",
    "D1 = [0, 0, 0,     0,     0,     0,     0,     0.204, 0.388, 0.547, 0.687]\n",
    "D2 = [0, 0, 3.686, 4.358, 4.698, 4.918, 5.078, 5.204, 5.306, 5.393, 5.469]\n",
    "D3 = [0, 0, 0,     0,     0,     0,     0,     0.076, 0.136, 0.184, 0.223]\n",
    "D4 = [0, 0, 3.267, 2.575, 2.282, 2.115, 2.004, 1.924, 1.864, 1.816, 1.777]\n",
    "\n",
    "# n         2      3      4      5      6      7      8      9      10     11     12     13     14     15\n",
    "c4 = [0, 0, 0.7979,0.8862,0.9213,0.9400,0.9515,0.9594,0.9650,0.9693,0.9727,0.9754,0.9776,0.9794,0.9810,0.9823]\n",
    "B3 = [0, 0, 0,     0,     0,     0,     0.030, 0.118, 0.185, 0.239, 0.284, 0.321, 0.354, 0.382, 0.406, 0.428]\n",
    "B4 = [0, 0, 3.267, 2.568, 2.266, 2.089, 1.970, 1.882, 1.815, 1.761, 1.716, 1.679, 1.646, 1.618, 1.594, 1.572]\n",
    "B5 = [0, 0, 0,     0,     0,     0,     0.029, 0.113, 0.179, 0.232, 0.276, 0.313, 0.346, 0.374, 0.399, 0.421]\n",
    "B6 = [0, 0, 2.606, 2.276, 2.088, 1.964, 1.874, 1.806, 1.751, 1.707, 1.669, 1.637, 1.610, 1.585, 1.563, 1.544]\n",
    "A3 = [0, 0, 2.659, 1.954, 1.628, 1.427, 1.287, 1.182, 1.099, 1.032, 0.975, 0.927, 0.886, 0.850, 0.817, 0.789]\n",
    "\n",
    "# n    0  1        2        3        4        5        6        7        8        9\n",
    "h4 = [[0, 8.6336,  10.8140, 12.7231, 14.5363, 16.2634, 17.9269, 19.5410, 21.1152, 22.6565],\n",
    "      [0, 9.6476,  11.8961, 13.8641, 15.7293, 17.5038, 19.2113, 20.8665, 22.4796, 24.0579],\n",
    "      [0, 10.0830, 12.3505, 14.3359, 16.2170, 18.0063, 19.7276, 21.3960, 23.0217, 24.6119],\n",
    "      [0, 10.3114, 12.5845, 14.5760, 16.4629, 18.2578, 19.9845, 21.6581, 23.2887, 24.8838],\n",
    "      [0, 10.4405, 12.7143, 14.7077, 16.5965, 18.3935, 20.1223, 21.7980, 23.4307, 25.0278],\n",
    "      [0, 10.5152, 12.7880, 14.7818, 16.6711, 18.4687, 20.1982, 21.8747, 23.5082, 25.1062],\n",
    "      [0, 10.5581, 12.8297, 14.8234, 16.7127, 18.5105, 20.2403, 21.9171, 23.5510, 25.1493],\n",
    "      [0, 10.5816, 12.8524, 14.8460, 16.7352, 18.5331, 20.2631, 21.9401, 23.5742, 25.1728],\n",
    "      [0, 10.5932, 12.8635, 14.8570, 16.7463, 18.5442, 20.2743, 21.9515, 23.5858, 25.1846]]"
   ]
  },
  {
   "cell_type": "markdown",
   "metadata": {},
   "source": [
    "## 2. 데이터 불러오기"
   ]
  },
  {
   "cell_type": "code",
   "execution_count": null,
   "metadata": {},
   "outputs": [],
   "source": [
    "# [2] scm(pre) 데이터\n",
    "\n",
    "scm = pd.read_csv('/content/HS_0706/data/[2] scm(pre).csv')\n",
    "# scm = pd.read_csv('./data/[2] scm(pre).csv') #로컬"
   ]
  },
  {
   "cell_type": "code",
   "execution_count": null,
   "metadata": {},
   "outputs": [],
   "source": [
    "# 데이터에서 변수 2개 선택\n",
    "scm = scm[['V12', 'V55', 'V57']]\n",
    "\n",
    "# 데이터 확인\n",
    "\n",
    "print(scm.shape)\n",
    "print(scm.head())"
   ]
  },
  {
   "cell_type": "code",
   "execution_count": null,
   "metadata": {},
   "outputs": [],
   "source": [
    "# 결측치 확인\n",
    "print(scm.isnull().sum(), end='\\n\\n')"
   ]
  },
  {
   "cell_type": "code",
   "execution_count": null,
   "metadata": {},
   "outputs": [],
   "source": [
    "## scm 결측치 제거\n",
    "scm = scm.dropna(axis=0)"
   ]
  },
  {
   "cell_type": "markdown",
   "metadata": {},
   "source": [
    "## 3. Phase1과 Phase2로 데이터 분할\n",
    "- `phase1`\n",
    "    - 주어진 데이터로부터 정상 데이터를 뽑는 과정\n",
    "    - 이를 활용하여 관리 한계선을 결정\n",
    "- `phase2`\n",
    "    - phase1에서 계산한 관리 한계선을 이용해서 새로운 관측치의 정상, 불량 여부를 계산"
   ]
  },
  {
   "cell_type": "code",
   "execution_count": null,
   "metadata": {},
   "outputs": [],
   "source": [
    "# 데이터 시각화\n",
    "\n",
    "fig= plt.figure(figsize=(16,8))\n",
    "plt.plot(scm['V12'], linestyle='-', marker='o', color='black')\n",
    "plt.plot(scm['V55'], linestyle='-', marker='o', color='b')\n",
    "plt.plot(scm['V57'], linestyle='-', marker='o', color='r')\n",
    "plt.show()"
   ]
  },
  {
   "cell_type": "code",
   "execution_count": null,
   "metadata": {},
   "outputs": [],
   "source": [
    "# 전체 길이 확인 \n",
    "\n",
    "print(len(scm))"
   ]
  },
  {
   "cell_type": "code",
   "execution_count": null,
   "metadata": {},
   "outputs": [],
   "source": [
    "scm_phase_1 = scm[:3000]\n",
    "scm_phase_2 = scm[3000:]\n",
    "\n",
    "print(scm_phase_1.shape,scm_phase_2.shape)"
   ]
  },
  {
   "cell_type": "markdown",
   "metadata": {
    "tags": []
   },
   "source": [
    "## 4. R Chart를 통한 Type1 Error 확인"
   ]
  },
  {
   "cell_type": "code",
   "execution_count": null,
   "metadata": {},
   "outputs": [],
   "source": [
    "Image('/content/HS_0706/image/intro7.png')"
   ]
  },
  {
   "cell_type": "code",
   "execution_count": null,
   "metadata": {},
   "outputs": [],
   "source": [
    "Image('/content/HS_0706/image/intro10.png')"
   ]
  },
  {
   "cell_type": "code",
   "execution_count": null,
   "metadata": {},
   "outputs": [],
   "source": [
    "R = [] # range of the values\n",
    "s = [] # sigma\n",
    "\n",
    "for group in np.array(scm_phase_1):\n",
    "    R.append(group.max() - group.min()) # sub group별 범위(max-min) 계산\n",
    "    s.append(np.std(group)) # Groupt들의 분산"
   ]
  },
  {
   "cell_type": "code",
   "execution_count": null,
   "metadata": {},
   "outputs": [],
   "source": [
    "sample_num = scm_phase_1.shape[1] # 5\n",
    "data_num = len(R) # 25\n",
    "\n",
    "\"\"\" R Chart 시각화 \"\"\"\n",
    "\n",
    "fig = plt.figure(figsize=(15,8))\n",
    "plt.plot(R, linestyle='-', marker='o', color='black')\n",
    "plt.axhline((D4[sample_num]*statistics.mean(R)), color='red', linestyle='dashed') # UCL, D4[5]=2.115\n",
    "plt.axhline((D3[sample_num]*statistics.mean(R)), color='red', linestyle='dashed') # LCL, D3[5]=0\n",
    "plt.axhline((statistics.mean(R)), color='blue') # CL\n",
    "plt.title('R Chart(phase_1)', fontsize=20)\n",
    "plt.xlabel('Group', fontsize=15)\n",
    "plt.ylabel('Range', fontsize=15)\n",
    "plt.show()\n",
    "\n",
    "#False Alarm Counting\n",
    "count=0\n",
    "for i in range(len(R)): \n",
    "    if R[i] > D4[sample_num]*statistics.mean(R) or R[i] < D3[sample_num]*statistics.mean(R): # Upper Control Limit보다 크거나 Lower Control Limit보다 작을 때\n",
    "        count += 1                                                 \n",
    "\n",
    "print('R Control Chart Type1 Error (False alarm):' , count/data_num)"
   ]
  },
  {
   "cell_type": "markdown",
   "metadata": {},
   "source": [
    "## 4.1 R Chart (phase1+phase2)"
   ]
  },
  {
   "cell_type": "code",
   "execution_count": null,
   "metadata": {},
   "outputs": [],
   "source": [
    "## 비어있는 리스트 생성\n",
    "R_phase2 = [] # range of the values\n",
    "s_phase2 = [] # standard deviation \n",
    "\n",
    "## 각 관측치별 chart에 맞게 계산\n",
    "for group in np.array(scm_phase_2):\n",
    "    R_phase2.append(group.max() - group.min()) # sub group별 범위(max-min)\n",
    "    s_phase2.append(np.std(group)) # sub group별 표준편차 계산"
   ]
  },
  {
   "cell_type": "code",
   "execution_count": null,
   "metadata": {},
   "outputs": [],
   "source": [
    "\"\"\" R Chart 시각화 (phase1+phase2) \"\"\"\n",
    "\n",
    "fig = plt.figure(figsize=(15,8))\n",
    "plt.plot((R + R_phase2), linestyle='-', marker='o', color='black') # phase1에 해당하는 r과 phase2에 해당하는 값을 넣어줌\n",
    "plt.axhline((D4[sample_num]*statistics.mean(R)), color='red', linestyle='dashed') # phase1에서 구한 UCL\n",
    "plt.axhline((D3[sample_num]*statistics.mean(R)), color='red', linestyle='dashed') # phase1에서 구한 LCL\n",
    "plt.axhline((statistics.mean(R_phase2)), color='blue')\n",
    "plt.axvline(3000, color='grey', linestyle='--', linewidth=3) # phase1과 phase2를 나누는 부분\n",
    "plt.title('R Chart(phase1 + phase2)', fontsize=20)\n",
    "plt.xlabel('Group', fontsize=15)\n",
    "plt.ylabel('Range', fontsize=15)\n",
    "plt.show()"
   ]
  },
  {
   "cell_type": "markdown",
   "metadata": {
    "tags": []
   },
   "source": [
    "## 5. s Chart를 통한 Type1 Error 확인"
   ]
  },
  {
   "cell_type": "code",
   "execution_count": null,
   "metadata": {},
   "outputs": [],
   "source": [
    "Image('/content/HS_0706/image/intro11.png')"
   ]
  },
  {
   "cell_type": "code",
   "execution_count": null,
   "metadata": {},
   "outputs": [],
   "source": [
    "R = [] # range of the values\n",
    "s = [] # sigma\n",
    "\n",
    "for group in np.array(scm_phase_1):\n",
    "    R.append(group.max() - group.min()) # sub group별 범위(max-min) 계산\n",
    "    s.append(np.std(group)) # Groupt들의 분산"
   ]
  },
  {
   "cell_type": "code",
   "execution_count": null,
   "metadata": {},
   "outputs": [],
   "source": [
    "sample_num = scm_phase_1.shape[1] # 5\n",
    "data_num = len(s) # 25\n",
    "\n",
    "\"\"\" s Chart 시각화 \"\"\"\n",
    "\n",
    "fig = plt.figure(figsize=(15,8))\n",
    "plt.plot(s, linestyle='-', marker='o', color='black')\n",
    "plt.axhline((B4[sample_num]*statistics.mean(s)), color='red', linestyle='dashed') # UCL, B4[5]=2.089\n",
    "plt.axhline((B3[sample_num]*statistics.mean(s)), color='red', linestyle='dashed') # LCL, B3[5]=0\n",
    "plt.axhline((statistics.mean(s)), color='blue') # CL\n",
    "plt.title('s Chart(phase_1)', fontsize=20)\n",
    "plt.xlabel('Group', fontsize=15)\n",
    "plt.ylabel('Range', fontsize=15)\n",
    "plt.show()\n",
    "\n",
    "#False Alarm Counting\n",
    "count=0\n",
    "for i in range(len(s)): \n",
    "    if s[i] > B4[sample_num]*statistics.mean(s) or s[i] < B3[sample_num]*statistics.mean(s): # Upper Control Limit보다 크거나 Lower Control Limit보다 작을 때\n",
    "        count += 1                                                 \n",
    "\n",
    "print('s Control Chart Type1 Error (False alarm):' , count/data_num)"
   ]
  },
  {
   "cell_type": "markdown",
   "metadata": {},
   "source": [
    "## 5.1 s Chart (phase1+phase2)"
   ]
  },
  {
   "cell_type": "code",
   "execution_count": null,
   "metadata": {},
   "outputs": [],
   "source": [
    "## 비어있는 리스트 생성\n",
    "R_phase2 = [] # range of the values\n",
    "s_phase2 = [] # standard deviation \n",
    "\n",
    "## 각 관측치별 chart에 맞게 계산\n",
    "for group in np.array(scm_phase_2):\n",
    "    R_phase2.append(group.max() - group.min()) # sub group별 범위(max-min)\n",
    "    s_phase2.append(np.std(group)) # sub group별 표준편차 계산"
   ]
  },
  {
   "cell_type": "code",
   "execution_count": null,
   "metadata": {},
   "outputs": [],
   "source": [
    "\"\"\" s Chart 시각화 (phase1+phase2) \"\"\"\n",
    "\n",
    "fig = plt.figure(figsize=(15,8))\n",
    "plt.plot(s + s_phase2, linestyle='-', marker='o', color='black') # phase1에 해당하는 s와 phase2에 해당하는 s2를 넣어줌\n",
    "plt.axhline((B4[sample_num]*statistics.mean(s)), color='red', linestyle='dashed') # phase1에서 구한 UCL\n",
    "plt.axhline((B3[sample_num]*statistics.mean(s)), color='red', linestyle='dashed') # phase1에서 구한 LCL\n",
    "plt.axhline((statistics.mean(s)), color='blue') # CL\n",
    "plt.axvline(3000, color='grey', linestyle='--', linewidth=3)\n",
    "plt.title('s Chart(phase1 + phase2)', fontsize=20)\n",
    "plt.xlabel('Group', fontsize=15)\n",
    "plt.ylabel('Range', fontsize=15)\n",
    "plt.show()"
   ]
  },
  {
   "cell_type": "markdown",
   "metadata": {},
   "source": [
    "# EOD"
   ]
  }
 ],
 "metadata": {
  "kernelspec": {
   "display_name": "ttest",
   "language": "python",
   "name": "ttest"
  },
  "language_info": {
   "codemirror_mode": {
    "name": "ipython",
    "version": 3
   },
   "file_extension": ".py",
   "mimetype": "text/x-python",
   "name": "python",
   "nbconvert_exporter": "python",
   "pygments_lexer": "ipython3",
   "version": "3.7.11"
  }
 },
 "nbformat": 4,
 "nbformat_minor": 4
}
