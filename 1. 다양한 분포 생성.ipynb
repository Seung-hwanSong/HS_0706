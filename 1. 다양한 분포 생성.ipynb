{
 "cells": [
  {
   "cell_type": "code",
   "execution_count": null,
   "id": "70b66f67-5f64-4601-8e18-4525ce2ae71c",
   "metadata": {},
   "outputs": [],
   "source": [
    "!git clone https://github.com/Seung-hwanSong/HS_0706.git #코랩 사용"
   ]
  },
  {
   "cell_type": "markdown",
   "id": "b8471f54-65b5-4f2f-a891-2ebda9c917b9",
   "metadata": {},
   "source": [
    "# Diagnostic Data Analytics 1\n",
    "\n",
    "# 1. 다양한 분포 생성\n",
    "# 이산확률분포, 연속확률분포"
   ]
  },
  {
   "cell_type": "markdown",
   "id": "79e9d50f-9e9c-40ef-ad41-af7f2aec27f9",
   "metadata": {},
   "source": [
    "##### jupyter notebook 단축키\n",
    "\n",
    "- ctrl+enter: 셀 실행   \n",
    "- shift+enter: 셀 실행 및 다음 셀 이동   \n",
    "- alt+enter: 셀 실행, 다음 셀 이동, 새로운 셀 생성\n",
    "- a: 상단에 새로운 셀 만들기\n",
    "- b: 하단에 새로운 셀 만들기\n",
    "- dd: 셀 삭제(x: 셀 삭제)\n",
    "- 함수 ( ) 안에서 shift+tab: arguments description. shift+tab+tab은 길게 볼 수 있도록"
   ]
  },
  {
   "cell_type": "markdown",
   "id": "3ebc5173-9627-4ad7-a3f4-25fb3f6e038b",
   "metadata": {},
   "source": [
    "## 1. 모듈 불러오기"
   ]
  },
  {
   "cell_type": "code",
   "execution_count": null,
   "id": "5ddc1a85-384e-4fa7-b4f4-23b73c97cb11",
   "metadata": {},
   "outputs": [],
   "source": [
    "\"\"\" 데이터 전처리 \"\"\"\n",
    "import numpy as np\n",
    "import pandas as pd\n",
    "\n",
    "\"\"\" 통계 및 계산 \"\"\"      \n",
    "import statistics\n",
    "import scipy.stats as stats\n",
    "from scipy.stats import binom\n",
    "from scipy.special import factorial\n",
    "import math\n",
    "\n",
    "\"\"\" 시각화 \"\"\"\n",
    "import matplotlib.pyplot as plt"
   ]
  },
  {
   "cell_type": "markdown",
   "id": "ab66176e-1393-47d0-9590-b4f2cbe841ea",
   "metadata": {
    "id": "vZGkOLg2Q5fo",
    "tags": []
   },
   "source": [
    "## 2. 이산확률분포"
   ]
  },
  {
   "cell_type": "markdown",
   "id": "130047d0-2978-4d9d-8622-3de152e93336",
   "metadata": {},
   "source": [
    "### 2-1. 이항 분포 "
   ]
  },
  {
   "cell_type": "markdown",
   "id": "12629a4b-fc5c-474f-bbc1-595e60d2c08f",
   "metadata": {},
   "source": [
    "- 이항 분포 (Binomial distribution)는 연속된 n번의 독립시행에서 각 시행이 성공할 (또는 일어날) 확률 p를 가질 때 만들어지는 이산 확률 분포를 의미함\n",
    "\n",
    "- 이 때 성공한 횟수를 X라는 확률변수로 나타내면, 확률변수 X는 이항 분포를 따르고 평균, 분산, 확률 질량 함수 (probability mass function)는 아래와 같이 주어짐\n",
    "\n",
    "- <strong> E(X) = np, V(X) = npq </strong>\n",
    "\n",
    "# $f(x)={}_{n} C_{x} p^{x}(1-p)^{n-x}$"
   ]
  },
  {
   "cell_type": "code",
   "execution_count": null,
   "id": "2cd8434f-fcf7-4aae-b408-2cec4e873c10",
   "metadata": {},
   "outputs": [],
   "source": [
    "np.array(range(21))"
   ]
  },
  {
   "cell_type": "code",
   "execution_count": null,
   "id": "50927abf-e8a2-48cc-adf6-c6ccf9e21436",
   "metadata": {},
   "outputs": [],
   "source": [
    "\"\"\" 이항분포 \"\"\"\n",
    "\n",
    "n = 20                        # 시행 횟수\n",
    "x = np.array(range(21))       # 성공한 횟수\n",
    "p = 0.5                       # 시행이 성공할 확률"
   ]
  },
  {
   "cell_type": "code",
   "execution_count": null,
   "id": "d0a490cd-f8e2-468f-86b4-177c44b63e9b",
   "metadata": {},
   "outputs": [],
   "source": [
    "# Combination 함수 정의\n",
    "def combination(x,n):\n",
    "    comb = factorial(n) / (factorial(x) * factorial(n - x))\n",
    "    return comb "
   ]
  },
  {
   "cell_type": "code",
   "execution_count": null,
   "id": "3f4e20e9-238e-43cb-9df0-b8108686f0b2",
   "metadata": {},
   "outputs": [],
   "source": [
    "# 각 시행에서 성공할 확률\n",
    "y = combination(x,n) * p ** x * (1 - p) ** (n - x)\n",
    "print(y)"
   ]
  },
  {
   "cell_type": "code",
   "execution_count": null,
   "id": "84d6204a-c8b4-4cca-882d-b6000f940e4f",
   "metadata": {},
   "outputs": [],
   "source": [
    "# n = 20 , p= 0.5일 때 이항분포의 확률질량함수(pmf) 시각화 \n",
    "\n",
    "plt.figure(figsize=(12, 8))\n",
    "plt.bar(x, y, label='(n=' + str(n) +', p='+str(p)+ ')' )\n",
    "plt.xlabel('X')\n",
    "plt.ylabel('P(X)')\n",
    "plt.title('Binomial Distribution(n = 20, p = 1/2)')\n",
    "plt.grid()\n",
    "plt.legend()\n",
    "\n",
    "plt.show()"
   ]
  },
  {
   "cell_type": "markdown",
   "id": "5f104a32-f7c8-44e2-9561-bf5d5ced872d",
   "metadata": {},
   "source": [
    "### N의 크기에 따른 이항분포의 확률질량함수 시각화"
   ]
  },
  {
   "cell_type": "code",
   "execution_count": null,
   "id": "41106f09-e296-4e2f-9a5a-e77a7f78ed63",
   "metadata": {},
   "outputs": [],
   "source": [
    " np.array(range(5))"
   ]
  },
  {
   "cell_type": "code",
   "execution_count": null,
   "id": "7c16f016-5314-4432-9bdc-7eb8e4da6bb7",
   "metadata": {},
   "outputs": [],
   "source": [
    "# Scipy 모듈을 활용한 p= 0.5 일 때의 이항분포의 확률질량함수 시각화 \n",
    "\n",
    "p = 0.5\n",
    "N= [4, 8, 12, 16, 20, 24, 28, 32, 36, 40]\n",
    "\n",
    "plt.figure(figsize=(12, 8))\n",
    "\n",
    "for n in N:\n",
    "    x = np.array(range(n+1))\n",
    "    plt.plot(x, binom(n, p).pmf(x), 'o--', label='(n=' + str(n) +', p='+str(p)+ ')')\n",
    "    \n",
    "plt.xlabel('X')\n",
    "plt.ylabel('P(X)')\n",
    "plt.title('Binomial Distribution(p = .5)')\n",
    "plt.grid()\n",
    "plt.legend()\n",
    "plt.show()"
   ]
  },
  {
   "cell_type": "markdown",
   "id": "8e9a5556-d9da-4f65-9db1-195eeaa1ac6e",
   "metadata": {},
   "source": [
    "### 2-2. 포아송 분포 "
   ]
  },
  {
   "cell_type": "markdown",
   "id": "510dd5ab-6808-45b9-9c1b-38aadccc58c6",
   "metadata": {},
   "source": [
    "- 포아송 분포 (Poisson distribution)는 단위 시간 안에 어떤 사건이 몇 번 일어날 것인지를 표현하는 이산 확률 분포\n",
    "\n",
    "- 이항분포를 따르는 분포에서 시행횟수 n이 아주 커지고 사상 발생의 확률 p가 아주 작을 경우, 이항분포는 포아송분포로 근사시킬 수 있음\n",
    "\n",
    "- 포아송 분포에서, 정해진 시간 안에 어떤 사건이 일어날 횟수에 대한 기대값이 λ라고 했을 때, 그 사건이 n회 일어날 확률은 아래와 같이 주어짐\n",
    "\n",
    "- <strong> E(X) = λ , V(X) = λ </strong>\n",
    "\n",
    "# $P(X=n)=\\cfrac{\\lambda^{n}e^{-\\lambda}}{n!}$"
   ]
  },
  {
   "cell_type": "code",
   "execution_count": null,
   "id": "5709d93c-80d0-4f83-bc40-96b28d0460d4",
   "metadata": {},
   "outputs": [],
   "source": [
    "\"\"\" 포아송분포 \"\"\"\n",
    "\n",
    "x = np.arange(40)      # 확률 변수 생성\n",
    "Lamb = 5               # 포아송 분포의 평균 (정해진 시간 안에 어떤 사건이 일어날 횟수에 대한 기대값)"
   ]
  },
  {
   "cell_type": "code",
   "execution_count": null,
   "id": "7c77637a-ebba-4030-9139-8ae31e255c46",
   "metadata": {},
   "outputs": [],
   "source": [
    "# 확률 변수에 따른 확률 값 정의\n",
    "\n",
    "def pois_dist(n, lamb):\n",
    "    p = (lamb ** n) * math.exp(-lamb) / math.factorial(n)\n",
    "    return p"
   ]
  },
  {
   "cell_type": "code",
   "execution_count": null,
   "id": "28540fa1-1c5d-457e-b7b0-f7a7a9619d50",
   "metadata": {},
   "outputs": [],
   "source": [
    "# 사건이 n회 일어날 확률 \n",
    "y = np.array([pois_dist(n, Lamb) for n in range(40)]) \n",
    "print(y)"
   ]
  },
  {
   "cell_type": "code",
   "execution_count": null,
   "id": "4e484b5c-00bf-47fb-8747-46fdf44fe425",
   "metadata": {},
   "outputs": [],
   "source": [
    "# λ= 5 일 때, 포아송 분포의 확률 질량 함수(pmf) 시각화\n",
    "\n",
    "plt.figure(figsize=(8,4))\n",
    "plt.ylim(0, 0.15)\n",
    "plt.bar(x, y, color='lightcoral')\n",
    "plt.title('Poisson Distribution ($\\lambda$ = 5)')\n",
    "plt.show()"
   ]
  },
  {
   "cell_type": "code",
   "execution_count": null,
   "id": "8d7a42db-4878-4a11-be18-5b5a15bb4cca",
   "metadata": {},
   "outputs": [],
   "source": [
    "# λ= 5, 10, 20, 30 일 때, 포아송 분포의 확률 질량 함수 시각화\n",
    "\n",
    "x = np.arange(40)\n",
    "\n",
    "Lamb = [5,10,20,30]\n",
    "graph_color = ['royalblue', 'mediumaquamarine', 'lightcoral', 'purple']\n",
    "\n",
    "plt.figure(figsize=(16,8))\n",
    "plt.title('Poisson Distribution')\n",
    "\n",
    "for i,lamb in enumerate(Lamb):\n",
    "    plt.subplot(2,2,i+1)\n",
    "    pd1 = np.array([pois_dist(n, lamb) for n in range(40)])\n",
    "    plt.ylim(0, 0.15)\n",
    "    plt.title(f'Poisson Distribution ($\\lambda$ = {lamb})')\n",
    "    plt.bar(x, pd1, color=graph_color[i])\n",
    "\n",
    "plt.show()    "
   ]
  },
  {
   "cell_type": "markdown",
   "id": "bd9b6dc3-a856-4ea3-a666-28081eb56af9",
   "metadata": {
    "id": "C5kmSgfMSDRP"
   },
   "source": [
    "## 3. 연속확률분포"
   ]
  },
  {
   "cell_type": "markdown",
   "id": "734f48e4-dc94-4fe9-939b-8755e1300a4e",
   "metadata": {
    "id": "TLDaYJa5SFlm"
   },
   "source": [
    "### 3-1. 정규 분포"
   ]
  },
  {
   "cell_type": "markdown",
   "id": "7e8b7712-db45-4336-83b1-cb1f8c082adc",
   "metadata": {
    "id": "TIMzwQd1SHEk"
   },
   "source": [
    "- 정규 분포 (Normal distribution)는 통계학에서 연속 확률 분포의 한 종류로서 데이터의 분포를 근사하는데 가장 흔하게 사용됨\n",
    "\n",
    "- 정규 분포의 모양은 2개의 매개 변수인 평균 μ과 표준편차 σ에 의해 결정되며, 이 때의 분포를 N(μ,σ2)으로 나타냄\n",
    "\n",
    "- 정규 분포 N(μ,σ2)를 갖는 확률 변수 x는 기대값, 최빈값, 중앙값이 모두 μ이며, 분산은 σ2로 주어짐\n",
    "\n",
    "- 정규 분포 N(μ,σ2)를 갖는 확률 변수 x에 대한 확률 밀도 함수 (Probability Density Function)는 아래와 같이 주어짐\n",
    "\n",
    "- <strong> E(X) = μ , V(X) = σ2 </strong>\n",
    "\n",
    "# $N(x|\\mu, \\, \\sigma^2) = \\frac{1}{\\sqrt{2\\pi\\sigma^2}} exp \\left[ -\\frac{(x-\\mu)^2}{2\\sigma^2} \\right] $"
   ]
  },
  {
   "cell_type": "code",
   "execution_count": null,
   "id": "9e83a17f-c510-48a8-8d44-ad78a252c997",
   "metadata": {},
   "outputs": [],
   "source": [
    "\"\"\" 정규분포 \"\"\"\n",
    "\n",
    "mu = 0.0                      # 정규분포의 평균\n",
    "sigma = 1.0                   # 정규분포의 표준편차\n",
    "\n",
    "x = np.linspace(-8, 8, 1000)  # -8부터 8까지의 범위를 1000등분 하는 확률 변수 x 생성\n",
    "\n",
    "y = (1 / np.sqrt(2 * np.pi * sigma**2)) * np.exp(-(x-mu)**2 / (2 * sigma**2))   # 정규분포의 확률밀도함수"
   ]
  },
  {
   "cell_type": "code",
   "execution_count": null,
   "id": "48fe0e7e-3455-491e-8e14-8ff4b2c03852",
   "metadata": {},
   "outputs": [],
   "source": [
    "# 평균이 0, 표준편차가 1인 정규분포의 확률 밀도 함수 시각화\n",
    "\n",
    "plt.figure(figsize=(8,4))\n",
    "plt.plot(x, y, 'g', alpha=0.7, linewidth=5, label='PDF of N(0, 1)')\n",
    "plt.xlabel('x', fontsize =12 )\n",
    "plt.ylabel('f(x)', fontsize =12)\n",
    "plt.legend(loc='upper left', fontsize =12)\n",
    "plt.show()"
   ]
  },
  {
   "cell_type": "code",
   "execution_count": null,
   "id": "abd5be08-4615-4da5-9573-5901abe72e87",
   "metadata": {},
   "outputs": [],
   "source": [
    "# 다양한 정규분포 생성\n",
    "\n",
    "mu1, sigma1 = 0.0, 1.0   # 첫 번째 정규분포의 평균과 표준편차\n",
    "mu2, sigma2 = 1.5, 1.5   # 두 번째 정규분포의 평균과 표준편차\n",
    "mu3, sigma3 = 3.0, 2.0   # 세 번째 정규분포의 평균과 표준편차\n",
    "\n",
    "x = np.linspace(-8, 8, 1000) # -8부터 8까지의 범위를 1000등분 하는 확률 변수 x 생성\n",
    "\n",
    "y1 = (1 / np.sqrt(2 * np.pi * sigma1**2)) * np.exp(-(x-mu1)**2 / (2 * sigma1**2))   #첫 번째 정규분포의 확률밀도함수\n",
    "y2 = (1 / np.sqrt(2 * np.pi * sigma2**2)) * np.exp(-(x-mu2)**2 / (2 * sigma2**2))   #두 번째 정규분포의 확률밀도함수\n",
    "y3 = (1 / np.sqrt(2 * np.pi * sigma3**2)) * np.exp(-(x-mu3)**2 / (2 * sigma3**2))   #세 번째 정규분포의 확률밀도함수"
   ]
  },
  {
   "cell_type": "code",
   "execution_count": null,
   "id": "a77183bf-ae43-4e72-9748-f369d5062876",
   "metadata": {},
   "outputs": [],
   "source": [
    "# 다양한 정규분포 시각화 \n",
    "\n",
    "plt.figure(figsize=(12,6))\n",
    "plt.plot(x, y1, alpha=0.7, linewidth=5, label=r'PDF of N(0, $1^2$)')\n",
    "plt.plot(x, y2, alpha=0.7, linewidth=5, label=r'PDF of N(1.5, $1.5^2$)')\n",
    "plt.plot(x, y3, alpha=0.7,linewidth=5, label=r'PDF of N(3.0, $2.0^2$)')\n",
    "plt.xlabel('x', fontsize =12)\n",
    "plt.ylabel('f(x)', fontsize =12)\n",
    "#plt.legend(bbox_to_anchor=(1.0, 0.4))\n",
    "plt.legend()\n",
    "plt.show()"
   ]
  },
  {
   "cell_type": "markdown",
   "id": "59860d08-fdfc-4e9a-ac51-1e97825e014d",
   "metadata": {
    "id": "825lahKBSm32"
   },
   "source": [
    "### 3-2. t 분포"
   ]
  },
  {
   "cell_type": "markdown",
   "id": "1e2a8fdb-c25c-4807-820e-070e8624831c",
   "metadata": {
    "id": "dzQArLqtSpUI"
   },
   "source": [
    "- t 분포는 모집단 표준편차를 알 수 없을 때 표본 평균과 모집단 평균 사이 표준화된 거리를 설명하며, 관측값은 정규 분포를 따르는 모집단에서 추출됨\n",
    "\n",
    "- 정규 분포와 마찬가지로 t 분포도 평균에 대하여 대칭형임\n",
    "\n",
    "- 정규 분포에서는 모집단 표준편차를 알고 있다고 가정 (t 분포에서는 이러한 가정을 내리지 않음)\n",
    "\n",
    "- 표본 크기가 커질수록(자유도가 커질수록) 정규분포에 가까워짐\n",
    "\n",
    "- t 분포 자유도 v를 갖는 확률 변수 t에 대한 확률 밀도 함수 (Probability Density Function)는 아래와 같이 주어짐\n",
    "\n",
    "- <strong>E(t) = 0 , V(t) = ν / (ν-2) </strong> \n",
    "\n",
    "# $f(t)=\\frac{\\Gamma[\\frac{(k+1}{2}]}{\\sqrt{\\pi k} \\Gamma(\\frac{k}{2})}\\frac{1}{\\left[ \\frac{t^2}{k}+1 \\right]^{\\frac{k+1}{2}}},  -\\infty < t < \\infty $"
   ]
  },
  {
   "cell_type": "code",
   "execution_count": null,
   "id": "26c22a0a-b413-4af1-8b3d-f86e5f25cb76",
   "metadata": {},
   "outputs": [],
   "source": [
    "\"\"\" t분포\"\"\"\n",
    "\n",
    "nu = 1                                                                           # t 분포의 자유도\n",
    "t = np.linspace(-8, 8, 1000)                                                     # -8부터 8까지의 범위를 1000등분 하는 확률 변수 t 생성\n",
    "y = (math.gamma((nu+1) / 2) / (math.gamma(nu / 2) * math.sqrt(math.pi * nu))) * (1 + t ** 2 / nu) ** (-(nu + 1) / 2) # t 분포의 확률밀도함수"
   ]
  },
  {
   "cell_type": "code",
   "execution_count": null,
   "id": "6a2457b5-1a1d-4ec9-91f6-9a7b7d9d440b",
   "metadata": {},
   "outputs": [],
   "source": [
    "plt.figure(figsize=(10, 6))          # 플롯 사이즈 지정\n",
    "plt.plot(t, y,'g',linewidth=5)                       \n",
    "plt.xlabel(\"t\", fontsize=12)         # x축 레이블 지정\n",
    "plt.ylabel(\"f(t)\", fontsize=12)      # y축 레이블 지정\n",
    "plt.title(\"t Distribution\")          # 타이틀 표시\n",
    "plt.legend([f\"t({nu})\"])             # 범례 표시\n",
    "plt.show()                           # 플롯 보이기"
   ]
  },
  {
   "cell_type": "code",
   "execution_count": null,
   "id": "f217d714-a837-478a-b436-7822be1991b9",
   "metadata": {},
   "outputs": [],
   "source": [
    "# 다양한 자유도의 t 분포 생성을 위한 함수정의\n",
    "def t_dist (t, nu) :\n",
    "    y = (math.gamma((nu+1) / 2) / (math.gamma(nu / 2) * math.sqrt(math.pi * nu))) * (1 + t ** 2 / nu) ** (-(nu + 1) / 2)\n",
    "    return y"
   ]
  },
  {
   "cell_type": "code",
   "execution_count": null,
   "id": "83b6b748-52a8-405d-acad-65c7bcddb7aa",
   "metadata": {},
   "outputs": [],
   "source": [
    "legend = []\n",
    "\n",
    "\n",
    "plt.figure(figsize=(20, 6))           # 플롯 사이즈 지정\n",
    "plt.subplot(1, 2, 1)                  # 첫번째 서브플롯\n",
    "\n",
    "# 1~10까지 자유도를 가지는 t 분포 생성\n",
    "for i in np.arange(10) + 1:           \n",
    "    plt.plot(t, t_dist(t, i))             \n",
    "    legend.append(\"t(\" + str(i) + \")\")\n",
    "\n",
    "plt.title(\"t Distribution\")          # 타이틀 표시\n",
    "plt.legend(legend)                   # 범례 표시\n",
    "plt.grid()                           # 플롯에 격자 보이기\n",
    "plt.xlabel(\"t\")                      # x축 레이블 지정\n",
    "plt.ylabel(\"y\")                      # y축 레이블 지정\n",
    "\n",
    "\n",
    "# t 분포와 비교를 위한 정규 분포 시각화\n",
    "\n",
    "# 정규분포 생성\n",
    "x = np.linspace(-8, 8, 1000)                                                    # -8부터 8까지의 범위를 1000등분 하는 확률 변수 x 생성\n",
    "mu = 0.0                                                                        # 정규분포의 평균\n",
    "sigma = 1.0                                                                     # 정규분포의 표준편차\n",
    "y = (1 / np.sqrt(2 * np.pi * sigma**2)) * np.exp(-(x-mu)**2 / (2 * sigma**2))   # 정규분포의 확률밀도함수\n",
    "\n",
    "\n",
    "# 평균이 0, 표준편차가 1인 정규분포의 확률 밀도 함수 시각화\n",
    "\n",
    "plt.subplot(1, 2, 2)                 # 두번째 서브플롯 \n",
    "plt.plot(x,y, label=r'PDF of N(0, $1^2$)')  \n",
    "plt.title(\"Normal Distribution\")\n",
    "plt.grid()\n",
    "plt.xlabel(\"x\")\n",
    "plt.ylabel(\"y\")\n",
    "plt.legend() \n",
    "plt.show()                         "
   ]
  },
  {
   "cell_type": "markdown",
   "id": "021498d6-c6f6-438d-b3da-59160cfa8e66",
   "metadata": {},
   "source": [
    "## -> t 분포의 자유도가 커질수록 정규분포와 유사"
   ]
  },
  {
   "cell_type": "markdown",
   "id": "51c633c2-2c23-44eb-986c-4401263f99c0",
   "metadata": {
    "id": "hcHr_kvQTY2v"
   },
   "source": [
    "### 3-3. 지수 분포 "
   ]
  },
  {
   "cell_type": "markdown",
   "id": "3267e328-b452-4e09-a2bd-6816efcd0d77",
   "metadata": {
    "id": "f1JWAblvTauZ"
   },
   "source": [
    "- 지수 분포 (Exponential distribution)는 사건이 발생하기까지 경과 시간에 대한 연속확률분포를 나타냄\n",
    "\n",
    "- 푸아송 분포가 단위 시간 동안 사건이 몇 번 일어날지를 나타내는 이산확률분포라면,\n",
    "\n",
    "- 지수 분포는 사건이 일어나고 다음 사건이 일어나기까지 걸리는 시간을 나타내는 분포임\n",
    "\n",
    "- 음이 아닌 값을 갖는 확률변수 X의 확률밀도함수가 임의의 양수 λ에 대해 확률밀도함수는 아래와 같습니다.\n",
    "\n",
    "- <strong> E(X)= 1/λ    V(X)=1/λ^2 </strong>\n",
    "\n",
    "# $f(x)=\\lambda e^{-\\lambda x} (x \\geq 0)$"
   ]
  },
  {
   "cell_type": "code",
   "execution_count": null,
   "id": "3fa51836-db6c-4c99-9b33-ef934013ea9f",
   "metadata": {},
   "outputs": [],
   "source": [
    "\"\"\" 지수분포 \"\"\"\n",
    "\n",
    "x = np.linspace(0, 3, 100)      # 지수 분포의 확률 변수 정의\n",
    "ld1, ld2, ld3 = 0.5, 1.0, 1.5   # 지수 분포의 모수 정의\n",
    "\n",
    "y1 = ld1 * np.exp(-ld1 * x)     # λ = 0.5 일 때, 확률밀도함수 정의\n",
    "y2 = ld2 * np.exp(-ld2 * x)     # λ = 1.0 일 때, 확률밀도함수 정의\n",
    "y3 = ld3 * np.exp(-ld3 * x)     # λ = 1.5 일 때, 확률밀도함수 정의"
   ]
  },
  {
   "cell_type": "code",
   "execution_count": null,
   "id": "7e5f64eb-cffd-4627-9610-77026093e932",
   "metadata": {},
   "outputs": [],
   "source": [
    "# 지수분포의 확률밀도함수 시각화\n",
    "\n",
    "plt.plot(x, y1, alpha=0.7, linewidth=5, label=r'$\\lambda$=0.5')\n",
    "plt.plot(x, y2, alpha=0.7, linewidth=5, label=r'$\\lambda$=1.0')\n",
    "plt.plot(x, y3, alpha=0.7, linewidth=5, label=r'$\\lambda$=1.5')\n",
    "plt.xlabel('x',fontsize=12)\n",
    "plt.ylabel('f(x)',fontsize=12)\n",
    "plt.legend()\n",
    "plt.show()"
   ]
  },
  {
   "cell_type": "markdown",
   "id": "837ec24a-46ac-4c3d-817d-db104ce33864",
   "metadata": {},
   "source": [
    "# EOD"
   ]
  }
 ],
 "metadata": {
  "kernelspec": {
   "display_name": "ttest",
   "language": "python",
   "name": "ttest"
  },
  "language_info": {
   "codemirror_mode": {
    "name": "ipython",
    "version": 3
   },
   "file_extension": ".py",
   "mimetype": "text/x-python",
   "name": "python",
   "nbconvert_exporter": "python",
   "pygments_lexer": "ipython3",
   "version": "3.7.11"
  }
 },
 "nbformat": 4,
 "nbformat_minor": 5
}
